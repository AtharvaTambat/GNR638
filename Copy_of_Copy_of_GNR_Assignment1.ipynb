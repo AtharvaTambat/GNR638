{
  "nbformat": 4,
  "nbformat_minor": 0,
  "metadata": {
    "colab": {
      "name": "Copy of Copy of GNR_Assignment1.ipynb",
      "provenance": [],
      "collapsed_sections": [],
      "authorship_tag": "ABX9TyOEKryUaKFlg7ndt62tOsiK",
      "include_colab_link": true
    },
    "kernelspec": {
      "name": "python3",
      "display_name": "Python 3"
    },
    "language_info": {
      "name": "python"
    }
  },
  "cells": [
    {
      "cell_type": "markdown",
      "metadata": {
        "id": "view-in-github",
        "colab_type": "text"
      },
      "source": [
        "<a href=\"https://colab.research.google.com/github/AtharvaTambat/GNR638/blob/main/Copy_of_Copy_of_GNR_Assignment1.ipynb\" target=\"_parent\"><img src=\"https://colab.research.google.com/assets/colab-badge.svg\" alt=\"Open In Colab\"/></a>"
      ]
    },
    {
      "cell_type": "markdown",
      "source": [
        "# **Importing necessary libraries**"
      ],
      "metadata": {
        "id": "BwlsF79DSoo3"
      }
    },
    {
      "cell_type": "code",
      "execution_count": 74,
      "metadata": {
        "id": "75GRciSPe_E0"
      },
      "outputs": [],
      "source": [
        "import numpy as np\n",
        "import matplotlib.pyplot as plt\n",
        "import pandas as pd\n",
        "\n",
        "np.random.seed(10) # Setting the seed so that we get deterministic values on running each time"
      ]
    },
    {
      "cell_type": "markdown",
      "source": [
        "# **Generating data-points from the Bivariate Gaussian**"
      ],
      "metadata": {
        "id": "_r5WMvEFntzK"
      }
    },
    {
      "cell_type": "code",
      "source": [
        "X = np.vstack([np.random.normal(1, 0.5, 2000).reshape(1000,2),np.random.normal(2, 0.2, 2000).reshape(1000,2)]) # Generates a set of 2000 values (x,y) from biavariate gaussian\n",
        "Y = np.hstack([[0]*1000,[1]*1000]) # Labels for the data \n",
        "\n",
        "# Creating a dataframe\n",
        "dataset = pd.DataFrame(X, columns={\"Y\",\"X\"})\n",
        "dataset[\"Label\"] = Y"
      ],
      "metadata": {
        "id": "BbYa7KN4nrVk"
      },
      "execution_count": 75,
      "outputs": []
    },
    {
      "cell_type": "markdown",
      "source": [
        "# **Visualizing the data**"
      ],
      "metadata": {
        "id": "KaSgequXTMNR"
      }
    },
    {
      "cell_type": "code",
      "source": [
        "dataset # Visualizing the data in tabular form"
      ],
      "metadata": {
        "colab": {
          "base_uri": "https://localhost:8080/",
          "height": 424
        },
        "id": "EDAd4h3PorTI",
        "outputId": "5fa53630-d5ad-448e-af47-8966753a5316"
      },
      "execution_count": 76,
      "outputs": [
        {
          "output_type": "execute_result",
          "data": {
            "text/plain": [
              "             X         Y  Label\n",
              "0     1.665793  1.357639      0\n",
              "1     0.227300  0.995808      0\n",
              "2     1.310668  0.639957      0\n",
              "3     1.132756  1.054274      0\n",
              "4     1.002146  0.912700      0\n",
              "...        ...       ...    ...\n",
              "1995  2.222150  2.230054      1\n",
              "1996  2.134849  2.097750      1\n",
              "1997  2.088755  1.700387      1\n",
              "1998  2.179847  2.257507      1\n",
              "1999  1.853931  1.989020      1\n",
              "\n",
              "[2000 rows x 3 columns]"
            ],
            "text/html": [
              "\n",
              "  <div id=\"df-1297110a-f48b-49a2-b500-cf82423767da\">\n",
              "    <div class=\"colab-df-container\">\n",
              "      <div>\n",
              "<style scoped>\n",
              "    .dataframe tbody tr th:only-of-type {\n",
              "        vertical-align: middle;\n",
              "    }\n",
              "\n",
              "    .dataframe tbody tr th {\n",
              "        vertical-align: top;\n",
              "    }\n",
              "\n",
              "    .dataframe thead th {\n",
              "        text-align: right;\n",
              "    }\n",
              "</style>\n",
              "<table border=\"1\" class=\"dataframe\">\n",
              "  <thead>\n",
              "    <tr style=\"text-align: right;\">\n",
              "      <th></th>\n",
              "      <th>X</th>\n",
              "      <th>Y</th>\n",
              "      <th>Label</th>\n",
              "    </tr>\n",
              "  </thead>\n",
              "  <tbody>\n",
              "    <tr>\n",
              "      <th>0</th>\n",
              "      <td>1.665793</td>\n",
              "      <td>1.357639</td>\n",
              "      <td>0</td>\n",
              "    </tr>\n",
              "    <tr>\n",
              "      <th>1</th>\n",
              "      <td>0.227300</td>\n",
              "      <td>0.995808</td>\n",
              "      <td>0</td>\n",
              "    </tr>\n",
              "    <tr>\n",
              "      <th>2</th>\n",
              "      <td>1.310668</td>\n",
              "      <td>0.639957</td>\n",
              "      <td>0</td>\n",
              "    </tr>\n",
              "    <tr>\n",
              "      <th>3</th>\n",
              "      <td>1.132756</td>\n",
              "      <td>1.054274</td>\n",
              "      <td>0</td>\n",
              "    </tr>\n",
              "    <tr>\n",
              "      <th>4</th>\n",
              "      <td>1.002146</td>\n",
              "      <td>0.912700</td>\n",
              "      <td>0</td>\n",
              "    </tr>\n",
              "    <tr>\n",
              "      <th>...</th>\n",
              "      <td>...</td>\n",
              "      <td>...</td>\n",
              "      <td>...</td>\n",
              "    </tr>\n",
              "    <tr>\n",
              "      <th>1995</th>\n",
              "      <td>2.222150</td>\n",
              "      <td>2.230054</td>\n",
              "      <td>1</td>\n",
              "    </tr>\n",
              "    <tr>\n",
              "      <th>1996</th>\n",
              "      <td>2.134849</td>\n",
              "      <td>2.097750</td>\n",
              "      <td>1</td>\n",
              "    </tr>\n",
              "    <tr>\n",
              "      <th>1997</th>\n",
              "      <td>2.088755</td>\n",
              "      <td>1.700387</td>\n",
              "      <td>1</td>\n",
              "    </tr>\n",
              "    <tr>\n",
              "      <th>1998</th>\n",
              "      <td>2.179847</td>\n",
              "      <td>2.257507</td>\n",
              "      <td>1</td>\n",
              "    </tr>\n",
              "    <tr>\n",
              "      <th>1999</th>\n",
              "      <td>1.853931</td>\n",
              "      <td>1.989020</td>\n",
              "      <td>1</td>\n",
              "    </tr>\n",
              "  </tbody>\n",
              "</table>\n",
              "<p>2000 rows × 3 columns</p>\n",
              "</div>\n",
              "      <button class=\"colab-df-convert\" onclick=\"convertToInteractive('df-1297110a-f48b-49a2-b500-cf82423767da')\"\n",
              "              title=\"Convert this dataframe to an interactive table.\"\n",
              "              style=\"display:none;\">\n",
              "        \n",
              "  <svg xmlns=\"http://www.w3.org/2000/svg\" height=\"24px\"viewBox=\"0 0 24 24\"\n",
              "       width=\"24px\">\n",
              "    <path d=\"M0 0h24v24H0V0z\" fill=\"none\"/>\n",
              "    <path d=\"M18.56 5.44l.94 2.06.94-2.06 2.06-.94-2.06-.94-.94-2.06-.94 2.06-2.06.94zm-11 1L8.5 8.5l.94-2.06 2.06-.94-2.06-.94L8.5 2.5l-.94 2.06-2.06.94zm10 10l.94 2.06.94-2.06 2.06-.94-2.06-.94-.94-2.06-.94 2.06-2.06.94z\"/><path d=\"M17.41 7.96l-1.37-1.37c-.4-.4-.92-.59-1.43-.59-.52 0-1.04.2-1.43.59L10.3 9.45l-7.72 7.72c-.78.78-.78 2.05 0 2.83L4 21.41c.39.39.9.59 1.41.59.51 0 1.02-.2 1.41-.59l7.78-7.78 2.81-2.81c.8-.78.8-2.07 0-2.86zM5.41 20L4 18.59l7.72-7.72 1.47 1.35L5.41 20z\"/>\n",
              "  </svg>\n",
              "      </button>\n",
              "      \n",
              "  <style>\n",
              "    .colab-df-container {\n",
              "      display:flex;\n",
              "      flex-wrap:wrap;\n",
              "      gap: 12px;\n",
              "    }\n",
              "\n",
              "    .colab-df-convert {\n",
              "      background-color: #E8F0FE;\n",
              "      border: none;\n",
              "      border-radius: 50%;\n",
              "      cursor: pointer;\n",
              "      display: none;\n",
              "      fill: #1967D2;\n",
              "      height: 32px;\n",
              "      padding: 0 0 0 0;\n",
              "      width: 32px;\n",
              "    }\n",
              "\n",
              "    .colab-df-convert:hover {\n",
              "      background-color: #E2EBFA;\n",
              "      box-shadow: 0px 1px 2px rgba(60, 64, 67, 0.3), 0px 1px 3px 1px rgba(60, 64, 67, 0.15);\n",
              "      fill: #174EA6;\n",
              "    }\n",
              "\n",
              "    [theme=dark] .colab-df-convert {\n",
              "      background-color: #3B4455;\n",
              "      fill: #D2E3FC;\n",
              "    }\n",
              "\n",
              "    [theme=dark] .colab-df-convert:hover {\n",
              "      background-color: #434B5C;\n",
              "      box-shadow: 0px 1px 3px 1px rgba(0, 0, 0, 0.15);\n",
              "      filter: drop-shadow(0px 1px 2px rgba(0, 0, 0, 0.3));\n",
              "      fill: #FFFFFF;\n",
              "    }\n",
              "  </style>\n",
              "\n",
              "      <script>\n",
              "        const buttonEl =\n",
              "          document.querySelector('#df-1297110a-f48b-49a2-b500-cf82423767da button.colab-df-convert');\n",
              "        buttonEl.style.display =\n",
              "          google.colab.kernel.accessAllowed ? 'block' : 'none';\n",
              "\n",
              "        async function convertToInteractive(key) {\n",
              "          const element = document.querySelector('#df-1297110a-f48b-49a2-b500-cf82423767da');\n",
              "          const dataTable =\n",
              "            await google.colab.kernel.invokeFunction('convertToInteractive',\n",
              "                                                     [key], {});\n",
              "          if (!dataTable) return;\n",
              "\n",
              "          const docLinkHtml = 'Like what you see? Visit the ' +\n",
              "            '<a target=\"_blank\" href=https://colab.research.google.com/notebooks/data_table.ipynb>data table notebook</a>'\n",
              "            + ' to learn more about interactive tables.';\n",
              "          element.innerHTML = '';\n",
              "          dataTable['output_type'] = 'display_data';\n",
              "          await google.colab.output.renderOutput(dataTable, element);\n",
              "          const docLink = document.createElement('div');\n",
              "          docLink.innerHTML = docLinkHtml;\n",
              "          element.appendChild(docLink);\n",
              "        }\n",
              "      </script>\n",
              "    </div>\n",
              "  </div>\n",
              "  "
            ]
          },
          "metadata": {},
          "execution_count": 76
        }
      ]
    },
    {
      "cell_type": "code",
      "source": [
        "# Visualizing the dataset on a graph\n",
        "plt.scatter(dataset['X'],dataset['Y'], c=dataset['Label'])\n",
        "\n",
        "plt.xlabel(\"X-axis\")\n",
        "plt.ylabel(\"Y-axis\")\n",
        "plt.title('Datapoints taken from the two Biavriate Gaussian')\n",
        "\n",
        "plt.show()"
      ],
      "metadata": {
        "colab": {
          "base_uri": "https://localhost:8080/",
          "height": 295
        },
        "id": "fiTP403Eor-y",
        "outputId": "e96ec5f7-41e7-4ea7-8353-ceb3a512b7b8"
      },
      "execution_count": 77,
      "outputs": [
        {
          "output_type": "display_data",
          "data": {
            "text/plain": [
              "<Figure size 432x288 with 1 Axes>"
            ],
            "image/png": "[encoded data removed]"
          },
          "metadata": {
            "needs_background": "light"
          }
        }
      ]
    },
    {
      "cell_type": "markdown",
      "source": [
        "# **Converting the labels for individual data-points into one-hot vectors**"
      ],
      "metadata": {
        "id": "1vX3ECSFpqkS"
      }
    },
    {
      "cell_type": "code",
      "source": [
        "Z = np.zeros((2000,2))\n",
        "for i in range(2000):\n",
        "  Z[i, Y[i]] = 1\n",
        "\n",
        "print (Z)"
      ],
      "metadata": {
        "colab": {
          "base_uri": "https://localhost:8080/"
        },
        "id": "6qRDoLb4o8kw",
        "outputId": "50d72b81-8ddb-48ff-e4bb-e83fca13ad1b"
      },
      "execution_count": 78,
      "outputs": [
        {
          "output_type": "stream",
          "name": "stdout",
          "text": [
            "[[1. 0.]\n",
            " [1. 0.]\n",
            " [1. 0.]\n",
            " ...\n",
            " [0. 1.]\n",
            " [0. 1.]\n",
            " [0. 1.]]\n"
          ]
        }
      ]
    },
    {
      "cell_type": "code",
      "source": [
        "X.shape"
      ],
      "metadata": {
        "colab": {
          "base_uri": "https://localhost:8080/"
        },
        "id": "Q69GXZoGt2BM",
        "outputId": "c68c74e7-8ab2-4ac1-b094-16d267f5bfc1"
      },
      "execution_count": 79,
      "outputs": [
        {
          "output_type": "execute_result",
          "data": {
            "text/plain": [
              "(2000, 2)"
            ]
          },
          "metadata": {},
          "execution_count": 79
        }
      ]
    },
    {
      "cell_type": "markdown",
      "source": [
        "# **Initialising Random weights and biases**"
      ],
      "metadata": {
        "id": "g15V9X12uPyc"
      }
    },
    {
      "cell_type": "code",
      "source": [
        "Wi_1 = np.random.randn(2,2)\n",
        "Bi_1 = np.random.randn(2)\n",
        "Wi_2 = np.random.randn(2,2)\n",
        "Bi_2 = np.random.randn(2)\n"
      ],
      "metadata": {
        "id": "bvgq1ekqt4N5"
      },
      "execution_count": 80,
      "outputs": []
    },
    {
      "cell_type": "code",
      "source": [
        "Wi_1"
      ],
      "metadata": {
        "colab": {
          "base_uri": "https://localhost:8080/"
        },
        "id": "0_x5yNp8u3Db",
        "outputId": "4f1ebd28-9056-4116-fc45-8dd1259a31d5"
      },
      "execution_count": 81,
      "outputs": [
        {
          "output_type": "execute_result",
          "data": {
            "text/plain": [
              "array([[-2.08918652,  0.0856184 ],\n",
              "       [ 0.63745566,  1.97878691]])"
            ]
          },
          "metadata": {},
          "execution_count": 81
        }
      ]
    },
    {
      "cell_type": "code",
      "source": [
        "Bi_1"
      ],
      "metadata": {
        "colab": {
          "base_uri": "https://localhost:8080/"
        },
        "id": "Kfl2kBaPu5Ru",
        "outputId": "3b0d69f6-8e16-4dc5-f412-0fac106d69ed"
      },
      "execution_count": 82,
      "outputs": [
        {
          "output_type": "execute_result",
          "data": {
            "text/plain": [
              "array([ 0.83322508, -0.24834427])"
            ]
          },
          "metadata": {},
          "execution_count": 82
        }
      ]
    },
    {
      "cell_type": "code",
      "source": [
        "Wi_2"
      ],
      "metadata": {
        "colab": {
          "base_uri": "https://localhost:8080/"
        },
        "id": "Dt8039v7vA0V",
        "outputId": "17b1a2e0-d140-4eb6-fe05-8c49046756a3"
      },
      "execution_count": 83,
      "outputs": [
        {
          "output_type": "execute_result",
          "data": {
            "text/plain": [
              "array([[-1.37223387,  0.44611391],\n",
              "       [ 1.02836908, -2.41412661]])"
            ]
          },
          "metadata": {},
          "execution_count": 83
        }
      ]
    },
    {
      "cell_type": "code",
      "source": [
        "Bi_2"
      ],
      "metadata": {
        "colab": {
          "base_uri": "https://localhost:8080/"
        },
        "id": "ZWHss4fkvCqS",
        "outputId": "0898390e-988d-4166-d6fc-eaa34fdca655"
      },
      "execution_count": 84,
      "outputs": [
        {
          "output_type": "execute_result",
          "data": {
            "text/plain": [
              "array([ 0.26480478, -0.50286511])"
            ]
          },
          "metadata": {},
          "execution_count": 84
        }
      ]
    },
    {
      "cell_type": "markdown",
      "source": [
        "# **Forward Propogation Functions**"
      ],
      "metadata": {
        "id": "tAdSkovOvzbm"
      }
    },
    {
      "cell_type": "code",
      "source": [
        "def tanh(x):\n",
        "  return (np.exp(x)-np.exp(-x))/(np.exp(x)+np.exp(-x))\n",
        "\n",
        "def softmax(x):\n",
        "  return np.exp(x)/(np.exp(x).sum(axis=1, keepdims=True))"
      ],
      "metadata": {
        "id": "7ACDNCROwhJ5"
      },
      "execution_count": 85,
      "outputs": []
    },
    {
      "cell_type": "code",
      "source": [
        "def forward_prop(X, Wi_1, Wi_2, Bi_1, Bi_2):\n",
        "  # first layer\n",
        "  M = tanh(X.dot(Wi_1.T)+Bi_1)\n",
        "\n",
        "  # second layer\n",
        "  Y = softmax(M.dot(Wi_2)+ Bi_2)\n",
        "\n",
        "  return Y, M"
      ],
      "metadata": {
        "id": "-Kmz0Ubxvlga"
      },
      "execution_count": 86,
      "outputs": []
    },
    {
      "cell_type": "markdown",
      "source": [
        "# **Backpropogation steps and implimenting gradient descent** "
      ],
      "metadata": {
        "id": "yJ-ePWoR0OdH"
      }
    },
    {
      "cell_type": "code",
      "source": [
        "# Returns gradient for weight_2 - cross entropy loss + MSE loss\n",
        "def dr_Wi_2(H, Z, Y):\n",
        "  # Derivative of the cross entropy loss \n",
        "  dr_cross = (Z-Y)\n",
        "  # Derivative of the MSE loss\n",
        "  temp = np.array([[1,-1],[-1, 1]])\n",
        "  dr_MSE = Y[:,[0]]*Y[:,[1]]*((Z-Y).dot(temp))/2000\n",
        "\n",
        "  # returning the sum of derivative wrt both losses\n",
        "  return (H.T.dot(dr_cross+dr_MSE))"
      ],
      "metadata": {
        "id": "4PPKDQQ_zjnq"
      },
      "execution_count": 87,
      "outputs": []
    },
    {
      "cell_type": "code",
      "source": [
        "# Returns gradient for weight 1 - cross entropy loss + MSE loss\n",
        "def dr_Wi_1(X, H, Z, output, Wi_2):\n",
        "  # Derivative of the cross entropy loss \n",
        "  dr_cross = (Z-output)\n",
        "  # Derivative of the MSE loss\n",
        "  temp = np.array([[1,-1],[-1, 1]])\n",
        "  dr_MSE = output[:,[0]]*output[:,[1]]*((Z-output).dot(temp))/2000\n",
        "\n",
        "  dZ = (dr_cross + dr_MSE).dot(Wi_2.T)*(1-H*H) # NOTE: (1-H^2) is the derivative of the tanh activation function\n",
        "\n",
        "  # returning the sum of derivative wrt both losses\n",
        "  return X.T.dot(dZ)"
      ],
      "metadata": {
        "id": "hMv05QOr0o-Y"
      },
      "execution_count": 88,
      "outputs": []
    },
    {
      "cell_type": "code",
      "source": [
        "# Returns the derivative of both biases\n",
        "def dr_B2(Z,Y):\n",
        "  # Derivative of the MSE loss\n",
        "  temp = np.array([[1,-1],[-1, 1]])\n",
        "  dr_MSE = Y[:,[0]]*Y[:,[1]]*((Z-Y).dot(temp))/2000\n",
        "\n",
        "  # Derivative of the cross entropy loss \n",
        "  dr_cross = (Z-Y)\n",
        "\n",
        "  # returning the sum of derivative wrt both losses\n",
        "  return ( dr_cross + dr_MSE).sum(axis=0)\n",
        "\n",
        "def dr_B1(Z, Y, Wi_2, H):\n",
        "  # Derivative of the MSE loss\n",
        "  temp = np.array([[1,-1],[-1, 1]])\n",
        "  dr_MSE = Y[:,[0]]*Y[:,[1]]*((Z-Y).dot(temp))/2000\n",
        "\n",
        "  # Derivative of the cross entropy loss \n",
        "  dr_cross = (Z-Y)\n",
        "\n",
        "  # returning the sum of derivative wrt both losses\n",
        "  return (((Z-Y)+dr_MSE).dot(Wi_2.T)*(1-H*H)).sum(axis=0) # NOTE: (1-H^2) is the derivative of the tanh activation function\n"
      ],
      "metadata": {
        "id": "yILXazNVNwMD"
      },
      "execution_count": 89,
      "outputs": []
    },
    {
      "cell_type": "code",
      "source": [
        "learning_rate = 0.0001 # Defining the learning rate of the NN\n",
        "\n",
        "# Creating arrays for storing intermediate values\n",
        "loss=[]\n",
        "weight1 = []\n",
        "weight2 = []\n",
        "weight3 = []\n",
        "weight4 = []\n",
        "\n",
        "weight5 = []\n",
        "weight6 = []\n",
        "weight7 = []\n",
        "weight8 = []\n",
        "\n",
        "# Training the NN over all datapoints for a large number iterations\n",
        "for epoch in range(10000):\n",
        "  output, hidden = forward_prop(X, Wi_1, Wi_2, Bi_1, Bi_2)\n",
        "  Wi_2 += learning_rate*dr_Wi_2(hidden, Z, output)\n",
        "  Bi_2 += learning_rate*dr_B2(Z, output)\n",
        "  Wi_1 += learning_rate*dr_Wi_1(X, hidden, Z, output, Wi_2).T\n",
        "  Bi_1 += learning_rate*dr_B1(Z, output, Wi_2, hidden)\n",
        "\n",
        "  loss.append(np.sum(np.square(output-Z))/2000 - np.trace(Z.dot((np.log(output).T))))\n",
        "\n",
        "  weight1.append(Wi_1[0,0])\n",
        "  weight2.append(Wi_1[0,1])\n",
        "  weight3.append(Wi_1[1,0])\n",
        "  weight4.append(Wi_1[1,1])\n",
        "\n",
        "  weight5.append(Wi_2[0,0])\n",
        "  weight6.append(Wi_2[0,1])\n",
        "  weight7.append(Wi_2[1,0])\n",
        "  weight8.append(Wi_2[1,1])\n",
        "\n",
        "  if (epoch%100==0):\n",
        "    print(\"Loss: \", np.sum(np.square(output-Z))/2000 - np.trace(Z.dot((np.log(output).T))))"
      ],
      "metadata": {
        "colab": {
          "base_uri": "https://localhost:8080/"
        },
        "id": "lTn7F-Xm2F0l",
        "outputId": "bfffbded-b267-4940-fbbc-0aaff336982a"
      },
      "execution_count": 90,
      "outputs": [
        {
          "output_type": "stream",
          "name": "stdout",
          "text": [
            "Loss:  6043.616808674095\n",
            "Loss:  445.2061233044293\n",
            "Loss:  191.5936437724569\n",
            "Loss:  147.7832503874023\n",
            "Loss:  129.8055537102194\n",
            "Loss:  120.27352984204069\n",
            "Loss:  114.54637654848035\n",
            "Loss:  110.82947488910955\n",
            "Loss:  108.28729625397531\n",
            "Loss:  106.48118727500182\n",
            "Loss:  105.16045729167371\n",
            "Loss:  104.1724954732902\n",
            "Loss:  103.4197535604666\n",
            "Loss:  102.8374157135276\n",
            "Loss:  102.38103919537758\n",
            "Loss:  102.01934885379646\n",
            "Loss:  101.72985183636264\n",
            "Loss:  101.49607053500134\n",
            "Loss:  101.30574204277741\n",
            "Loss:  101.14961504505334\n",
            "Loss:  101.02062715687279\n",
            "Loss:  100.91333091379967\n",
            "Loss:  100.82348604881034\n",
            "Loss:  100.74776525963793\n",
            "Loss:  100.68353885491452\n",
            "Loss:  100.62871512557342\n",
            "Loss:  100.5816206683655\n",
            "Loss:  100.5409097375052\n",
            "Loss:  100.50549494449203\n",
            "Loss:  100.47449383234337\n",
            "Loss:  100.44718737362025\n",
            "Loss:  100.42298750785413\n",
            "Loss:  100.4014115899392\n",
            "Loss:  100.38206216339366\n",
            "Loss:  100.36461086575389\n",
            "Loss:  100.34878556159205\n",
            "Loss:  100.33436001184431\n",
            "Loss:  100.3211455472389\n",
            "Loss:  100.30898433333077\n",
            "Loss:  100.2977439054302\n",
            "Loss:  100.28731272105412\n",
            "Loss:  100.27759653085364\n",
            "Loss:  100.26851541024386\n",
            "Loss:  100.26000132609586\n",
            "Loss:  100.2519961380132\n",
            "Loss:  100.24444995352067\n",
            "Loss:  100.23731977216012\n",
            "Loss:  100.23056836593864\n",
            "Loss:  100.22416335351255\n",
            "Loss:  100.21807643345217\n",
            "Loss:  100.2122827483389\n",
            "Loss:  100.20676035661366\n",
            "Loss:  100.20148979328278\n",
            "Loss:  100.19645370398464\n",
            "Loss:  100.19163653968793\n",
            "Loss:  100.18702430155034\n",
            "Loss:  100.1826043273131\n",
            "Loss:  100.17836511212082\n",
            "Loss:  100.17429615789774\n",
            "Loss:  100.170387846433\n",
            "Loss:  100.16663133216886\n",
            "Loss:  100.1630184513778\n",
            "Loss:  100.15954164498638\n",
            "Loss:  100.1561938927762\n",
            "Loss:  100.15296865708092\n",
            "Loss:  100.14985983442169\n",
            "Loss:  100.14686171378929\n",
            "Loss:  100.14396894050174\n",
            "Loss:  100.14117648474812\n",
            "Loss:  100.13847961408186\n",
            "Loss:  100.13587386924902\n",
            "Loss:  100.13335504284292\n",
            "Loss:  100.13091916036083\n",
            "Loss:  100.1285624633095\n",
            "Loss:  100.12628139406485\n",
            "Loss:  100.12407258223989\n",
            "Loss:  100.12193283235518\n",
            "Loss:  100.11985911263885\n",
            "Loss:  100.11784854481178\n",
            "Loss:  100.1158983947353\n",
            "Loss:  100.1140060638187\n",
            "Loss:  100.11216908109863\n",
            "Loss:  100.11038509591646\n",
            "Loss:  100.10865187112992\n",
            "Loss:  100.10696727680447\n",
            "Loss:  100.1053292843374\n",
            "Loss:  100.10373596097465\n",
            "Loss:  100.10218546468401\n",
            "Loss:  100.10067603935494\n",
            "Loss:  100.09920601029695\n",
            "Loss:  100.09777378001293\n",
            "Loss:  100.09637782422627\n",
            "Loss:  100.0950166881427\n",
            "Loss:  100.09368898292932\n",
            "Loss:  100.09239338239615\n",
            "Loss:  100.09112861986603\n",
            "Loss:  100.0898934852199\n",
            "Loss:  100.08868682210637\n",
            "Loss:  100.08750752530472\n",
            "Loss:  100.08635453823206\n"
          ]
        }
      ]
    },
    {
      "cell_type": "markdown",
      "source": [
        "# **Plotting the Loss and the value of weights on the hidden and output layers**"
      ],
      "metadata": {
        "id": "0oyfKf43Xaxy"
      }
    },
    {
      "cell_type": "code",
      "source": [
        "# Plotting the loss wrt no. of training steps\n",
        "plt.figure(figsize=(16, 8))\n",
        "plt.plot(range(10000), loss, color=\"red\")\n",
        "\n",
        "plt.xlabel(\"No. of training steps\")\n",
        "plt.ylabel(\"MSE + Cross entropy loss\")\n",
        "plt.title('Loss vs. No. of training steps')\n",
        "\n",
        "plt.show()"
      ],
      "metadata": {
        "colab": {
          "base_uri": "https://localhost:8080/",
          "height": 513
        },
        "id": "_kK-aDvz3oov",
        "outputId": "f95f1334-8d52-4f0b-c70b-9c2daf52ade7"
      },
      "execution_count": 91,
      "outputs": [
        {
          "output_type": "display_data",
          "data": {
            "text/plain": [
              "<Figure size 1152x576 with 1 Axes>"
            ],
            "image/png": "[encoded data removed]"
          },
          "metadata": {
            "needs_background": "light"
          }
        }
      ]
    },
    {
      "cell_type": "code",
      "source": [
        "# Plotting the weights with the number of trainign steps\n",
        "plt.figure(figsize=(16, 8))\n",
        "plt.plot(range(10000), weight1, color=\"green\")\n",
        "plt.plot(range(10000), weight2, color=\"blue\")\n",
        "plt.plot(range(10000), weight3, color=\"orange\")\n",
        "plt.plot(range(10000), weight4, color=\"yellow\")\n",
        "\n",
        "plt.xlabel(\"No. of training steps\")\n",
        "plt.ylabel(\"Values of weights\")\n",
        "plt.title('Values of weights of the hidden layer vs. No. of training steps')\n",
        "\n",
        "plt.show()"
      ],
      "metadata": {
        "colab": {
          "base_uri": "https://localhost:8080/",
          "height": 513
        },
        "id": "43Atil36srV6",
        "outputId": "a3674990-9cd6-4436-c3c6-04bf34f8a1d9"
      },
      "execution_count": 92,
      "outputs": [
        {
          "output_type": "display_data",
          "data": {
            "text/plain": [
              "<Figure size 1152x576 with 1 Axes>"
            ],
            "image/png": "[encoded data removed]"
          },
          "metadata": {
            "needs_background": "light"
          }
        }
      ]
    },
    {
      "cell_type": "code",
      "source": [
        "plt.figure(figsize=(16, 8))\n",
        "plt.plot(range(10000), weight5, color=\"green\")\n",
        "plt.plot(range(10000), weight6, color=\"blue\")\n",
        "plt.plot(range(10000), weight7, color=\"orange\")\n",
        "plt.plot(range(10000), weight8, color=\"yellow\")\n",
        "\n",
        "plt.xlabel(\"No. of training steps\")\n",
        "plt.ylabel(\"Values of weights\")\n",
        "plt.title('Values of weights of the output layer vs. No. of training steps')\n",
        "\n",
        "plt.show()"
      ],
      "metadata": {
        "colab": {
          "base_uri": "https://localhost:8080/",
          "height": 513
        },
        "id": "Xy3_jXaVtTKH",
        "outputId": "679ff60f-fdb9-4494-95b0-74c9e46d2c55"
      },
      "execution_count": 93,
      "outputs": [
        {
          "output_type": "display_data",
          "data": {
            "text/plain": [
              "<Figure size 1152x576 with 1 Axes>"
            ],
            "image/png": "[encoded data removed]"
          },
          "metadata": {
            "needs_background": "light"
          }
        }
      ]
    }
  ]
}